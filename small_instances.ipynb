{
 "cells": [
  {
   "cell_type": "code",
   "execution_count": 2,
   "metadata": {},
   "outputs": [],
   "source": [
    "from Algorithm import SupplyChainOptimization\n",
    "import numpy as np\n",
    "import time"
   ]
  },
  {
   "cell_type": "markdown",
   "metadata": {},
   "source": [
    "# Small instance - 1"
   ]
  },
  {
   "cell_type": "code",
   "execution_count": 9,
   "metadata": {},
   "outputs": [
    {
     "name": "stdout",
     "output_type": "stream",
     "text": [
      "Gurobi Optimizer version 11.0.2 build v11.0.2rc0 (win64 - Windows 10.0 (19045.2))\n",
      "\n",
      "CPU model: AMD Ryzen 7 5700U with Radeon Graphics, instruction set [SSE2|AVX|AVX2]\n",
      "Thread count: 8 physical cores, 16 logical processors, using up to 16 threads\n",
      "\n",
      "Optimize a model with 13 rows, 21 columns and 48 nonzeros\n",
      "Model fingerprint: 0xbde86291\n",
      "Variable types: 0 continuous, 21 integer (0 binary)\n",
      "Coefficient statistics:\n",
      "  Matrix range     [1e+00, 1e+00]\n",
      "  Objective range  [8e+00, 2e+01]\n",
      "  Bounds range     [0e+00, 0e+00]\n",
      "  RHS range        [5e+01, 2e+02]\n",
      "Found heuristic solution: objective 7321.0000000\n",
      "Presolve time: 0.00s\n",
      "Presolved: 13 rows, 21 columns, 48 nonzeros\n",
      "Variable types: 0 continuous, 21 integer (0 binary)\n",
      "Found heuristic solution: objective 7312.0000000\n",
      "\n",
      "Root relaxation: objective 5.386000e+03, 11 iterations, 0.00 seconds (0.00 work units)\n",
      "\n",
      "    Nodes    |    Current Node    |     Objective Bounds      |     Work\n",
      " Expl Unexpl |  Obj  Depth IntInf | Incumbent    BestBd   Gap | It/Node Time\n",
      "\n",
      "*    0     0               0    5386.0000000 5386.00000  0.00%     -    0s\n",
      "\n",
      "Explored 1 nodes (11 simplex iterations) in 0.02 seconds (0.00 work units)\n",
      "Thread count was 16 (of 16 available processors)\n",
      "\n",
      "Solution count 3: 5386 7312 7321 \n",
      "\n",
      "Optimal solution found (tolerance 1.00e-04)\n",
      "Best objective 5.386000000000e+03, best bound 5.386000000000e+03, gap 0.0000%\n",
      "Results saved to ./results/small/instance_1.txt\n",
      "Total runtime:  0.05118703842163086\n"
     ]
    }
   ],
   "source": [
    "# Sets and indices\n",
    "num_factories = 2\n",
    "num_cds = 3\n",
    "num_clients = 5\n",
    "\n",
    "# Parameters\n",
    "si = np.random.randint(150, 251, size=num_factories)  # Factory capacities\n",
    "tk = np.random.randint(100, 181, size=num_cds)        # CD capacities\n",
    "dj = np.random.randint(30, 76, size=num_clients)      # Client demands\n",
    "cik = np.random.randint(7, 19, size=(num_factories, num_cds))  # Factory -> CD costs\n",
    "ckj = np.random.randint(8, 21, size=(num_cds, num_clients))    # CD -> Client costs\n",
    "\n",
    "# Create and solve the problem\n",
    "total_start_time = time.time()  # Start measuring time\n",
    "problem = SupplyChainOptimization()\n",
    "problem.build_model(num_factories, num_cds, num_clients, si, tk, dj, cik, ckj)\n",
    "problem.solve(output_file=\"./results/small/instance_1.txt\")\n",
    "total_end_time = time.time() # End measuring time\n",
    "total_runtime = total_end_time - total_start_time # Total runtime\n",
    "print(\"Total runtime: \", total_runtime)"
   ]
  },
  {
   "cell_type": "markdown",
   "metadata": {},
   "source": [
    "# Small instance - 2"
   ]
  },
  {
   "cell_type": "code",
   "execution_count": 8,
   "metadata": {},
   "outputs": [
    {
     "name": "stdout",
     "output_type": "stream",
     "text": [
      "Gurobi Optimizer version 11.0.2 build v11.0.2rc0 (win64 - Windows 10.0 (19045.2))\n",
      "\n",
      "CPU model: AMD Ryzen 7 5700U with Radeon Graphics, instruction set [SSE2|AVX|AVX2]\n",
      "Thread count: 8 physical cores, 16 logical processors, using up to 16 threads\n",
      "\n",
      "Optimize a model with 26 rows, 84 columns and 192 nonzeros\n",
      "Model fingerprint: 0x8bd993c0\n",
      "Variable types: 0 continuous, 84 integer (0 binary)\n",
      "Coefficient statistics:\n",
      "  Matrix range     [1e+00, 1e+00]\n",
      "  Objective range  [5e+00, 2e+01]\n",
      "  Bounds range     [0e+00, 0e+00]\n",
      "  RHS range        [3e+01, 2e+02]\n",
      "Found heuristic solution: objective 8015.0000000\n",
      "Presolve time: 0.02s\n",
      "Presolved: 26 rows, 84 columns, 192 nonzeros\n",
      "Variable types: 0 continuous, 84 integer (0 binary)\n",
      "Found heuristic solution: objective 8001.0000000\n",
      "\n",
      "Root relaxation: objective 5.744000e+03, 22 iterations, 0.00 seconds (0.00 work units)\n",
      "\n",
      "    Nodes    |    Current Node    |     Objective Bounds      |     Work\n",
      " Expl Unexpl |  Obj  Depth IntInf | Incumbent    BestBd   Gap | It/Node Time\n",
      "\n",
      "*    0     0               0    5744.0000000 5744.00000  0.00%     -    0s\n",
      "\n",
      "Explored 1 nodes (22 simplex iterations) in 0.02 seconds (0.00 work units)\n",
      "Thread count was 16 (of 16 available processors)\n",
      "\n",
      "Solution count 3: 5744 8001 8015 \n",
      "\n",
      "Optimal solution found (tolerance 1.00e-04)\n",
      "Best objective 5.744000000000e+03, best bound 5.744000000000e+03, gap 0.0000%\n",
      "Results saved to ./results/small/instance_2.txt\n",
      "Total runtime:  0.06739044189453125\n"
     ]
    }
   ],
   "source": [
    "# Sets and indices\n",
    "num_factories = 4\n",
    "num_cds = 6\n",
    "num_clients = 10\n",
    "\n",
    "# Parameters\n",
    "si = np.random.randint(120, 201, size=num_factories)  # Factory capacities\n",
    "tk = np.random.randint(90, 151, size=num_cds)         # CD capacities\n",
    "dj = np.random.randint(25, 61, size=num_clients)      # Client demands\n",
    "cik = np.random.randint(5, 13, size=(num_factories, num_cds))  # Transport costs factory -> CD\n",
    "ckj = np.random.randint(6, 16, size=(num_cds, num_clients))    # Transport costs CD -> Client\n",
    "\n",
    "# Create and solve the problem\n",
    "total_start_time = time.time()  # Start measuring time\n",
    "problem = SupplyChainOptimization()\n",
    "problem.build_model(num_factories, num_cds, num_clients, si, tk, dj, cik, ckj)\n",
    "problem.solve(output_file=\"./results/small/instance_2.txt\")\n",
    "total_end_time = time.time() # End measuring time\n",
    "total_runtime = total_end_time - total_start_time # Total runtime\n",
    "print(\"Total runtime: \", total_runtime)"
   ]
  },
  {
   "cell_type": "markdown",
   "metadata": {},
   "source": [
    "# Small instance - 3"
   ]
  },
  {
   "cell_type": "code",
   "execution_count": 5,
   "metadata": {},
   "outputs": [
    {
     "name": "stdout",
     "output_type": "stream",
     "text": [
      "Gurobi Optimizer version 11.0.2 build v11.0.2rc0 (win64 - Windows 10.0 (19045.2))\n",
      "\n",
      "CPU model: AMD Ryzen 7 5700U with Radeon Graphics, instruction set [SSE2|AVX|AVX2]\n",
      "Thread count: 8 physical cores, 16 logical processors, using up to 16 threads\n",
      "\n",
      "Optimize a model with 48 rows, 280 columns and 640 nonzeros\n",
      "Model fingerprint: 0xafd0c552\n",
      "Variable types: 0 continuous, 280 integer (0 binary)\n",
      "Coefficient statistics:\n",
      "  Matrix range     [1e+00, 1e+00]\n",
      "  Objective range  [7e+00, 2e+01]\n",
      "  Bounds range     [0e+00, 0e+00]\n",
      "  RHS range        [3e+01, 2e+02]\n",
      "Found heuristic solution: objective 27161.000000\n",
      "Presolve time: 0.00s\n",
      "Presolved: 48 rows, 280 columns, 640 nonzeros\n",
      "Variable types: 0 continuous, 280 integer (0 binary)\n",
      "Found heuristic solution: objective 27096.000000\n",
      "\n",
      "Root relaxation: objective 1.736500e+04, 72 iterations, 0.00 seconds (0.00 work units)\n",
      "\n",
      "    Nodes    |    Current Node    |     Objective Bounds      |     Work\n",
      " Expl Unexpl |  Obj  Depth IntInf | Incumbent    BestBd   Gap | It/Node Time\n",
      "\n",
      "*    0     0               0    17365.000000 17365.0000  0.00%     -    0s\n",
      "\n",
      "Explored 1 nodes (72 simplex iterations) in 0.00 seconds (0.00 work units)\n",
      "Thread count was 16 (of 16 available processors)\n",
      "\n",
      "Solution count 3: 17365 27096 27161 \n",
      "\n",
      "Optimal solution found (tolerance 1.00e-04)\n",
      "Best objective 1.736500000000e+04, best bound 1.736500000000e+04, gap 0.0000%\n",
      "Results saved to ./results/small/instance_3.txt\n",
      "Total runtime:  0.05237770080566406\n"
     ]
    }
   ],
   "source": [
    "# Sets and indices\n",
    "num_factories = 8\n",
    "num_cds = 10\n",
    "num_clients = 20\n",
    "\n",
    "# Parameters\n",
    "si = np.random.randint(150, 251, size=num_factories)  # Factory capacities\n",
    "tk = np.random.randint(100, 181, size=num_cds)        # CD capacities\n",
    "dj = np.random.randint(30, 76, size=num_clients)      # Client demands\n",
    "cik = np.random.randint(7, 19, size=(num_factories, num_cds))  # Transport costs factory -> CD\n",
    "ckj = np.random.randint(8, 21, size=(num_cds, num_clients))    # Transport costs CD -> Client\n",
    "\n",
    "# Create and solve the problem\n",
    "total_start_time = time.time()  # Start measuring time\n",
    "problem = SupplyChainOptimization()\n",
    "problem.build_model(num_factories, num_cds, num_clients, si, tk, dj, cik, ckj)\n",
    "problem.solve(output_file=\"./results/small/instance_3.txt\")\n",
    "total_end_time = time.time() # End measuring time\n",
    "total_runtime = total_end_time - total_start_time # Total runtime\n",
    "print(\"Total runtime: \", total_runtime)"
   ]
  },
  {
   "cell_type": "markdown",
   "metadata": {},
   "source": [
    "# Small instance - 4"
   ]
  },
  {
   "cell_type": "code",
   "execution_count": 6,
   "metadata": {},
   "outputs": [
    {
     "name": "stdout",
     "output_type": "stream",
     "text": [
      "Gurobi Optimizer version 11.0.2 build v11.0.2rc0 (win64 - Windows 10.0 (19045.2))\n",
      "\n",
      "CPU model: AMD Ryzen 7 5700U with Radeon Graphics, instruction set [SSE2|AVX|AVX2]\n",
      "Thread count: 8 physical cores, 16 logical processors, using up to 16 threads\n",
      "\n",
      "Optimize a model with 130 rows, 2100 columns and 4800 nonzeros\n",
      "Model fingerprint: 0x0c38fe2e\n",
      "Variable types: 0 continuous, 2100 integer (0 binary)\n",
      "Coefficient statistics:\n",
      "  Matrix range     [1e+00, 1e+00]\n",
      "  Objective range  [1e+01, 3e+01]\n",
      "  Bounds range     [0e+00, 0e+00]\n",
      "  RHS range        [5e+01, 4e+02]\n",
      "Found heuristic solution: objective 142793.00000\n",
      "Presolve time: 0.00s\n",
      "Presolved: 130 rows, 2100 columns, 4800 nonzeros\n",
      "Variable types: 0 continuous, 2100 integer (0 binary)\n",
      "Found heuristic solution: objective 142616.00000\n",
      "\n",
      "Root relaxation: objective 8.541400e+04, 251 iterations, 0.00 seconds (0.00 work units)\n",
      "\n",
      "    Nodes    |    Current Node    |     Objective Bounds      |     Work\n",
      " Expl Unexpl |  Obj  Depth IntInf | Incumbent    BestBd   Gap | It/Node Time\n",
      "\n",
      "*    0     0               0    85414.000000 85414.0000  0.00%     -    0s\n",
      "\n",
      "Explored 1 nodes (251 simplex iterations) in 0.03 seconds (0.01 work units)\n",
      "Thread count was 16 (of 16 available processors)\n",
      "\n",
      "Solution count 3: 85414 142616 142793 \n",
      "\n",
      "Optimal solution found (tolerance 1.00e-04)\n",
      "Best objective 8.541400000000e+04, best bound 8.541400000000e+04, gap 0.0000%\n",
      "Results saved to ./results/small/instance_4.txt\n",
      "Total runtime:  0.24639129638671875\n"
     ]
    }
   ],
   "source": [
    "# Sets and indices\n",
    "num_factories = 20\n",
    "num_cds = 30\n",
    "num_clients = 50\n",
    "\n",
    "# Parameters\n",
    "si = np.random.randint(200, 400, size=num_factories)  # Factory capacities\n",
    "tk = np.random.randint(150, 300, size=num_cds)        # CD capacities\n",
    "dj = np.random.randint(50, 100, size=num_clients)      # Client demands\n",
    "cik = np.random.randint(10, 25, size=(num_factories, num_cds))  # Factory -> CD costs\n",
    "ckj = np.random.randint(12, 30, size=(num_cds, num_clients))    # CD -> Client costs\n",
    "\n",
    "# Create and solve the problem\n",
    "total_start_time = time.time()  # Start measuring time\n",
    "problem = SupplyChainOptimization()\n",
    "problem.build_model(num_factories, num_cds, num_clients, si, tk, dj, cik, ckj)\n",
    "problem.solve(output_file=\"./results/small/instance_4.txt\")\n",
    "total_end_time = time.time() # End measuring time\n",
    "total_runtime = total_end_time - total_start_time # Total runtime\n",
    "print(\"Total runtime: \", total_runtime)"
   ]
  },
  {
   "cell_type": "markdown",
   "metadata": {},
   "source": [
    "# Small instance - 5"
   ]
  },
  {
   "cell_type": "code",
   "execution_count": 7,
   "metadata": {},
   "outputs": [
    {
     "name": "stdout",
     "output_type": "stream",
     "text": [
      "Gurobi Optimizer version 11.0.2 build v11.0.2rc0 (win64 - Windows 10.0 (19045.2))\n",
      "\n",
      "CPU model: AMD Ryzen 7 5700U with Radeon Graphics, instruction set [SSE2|AVX|AVX2]\n",
      "Thread count: 8 physical cores, 16 logical processors, using up to 16 threads\n",
      "\n",
      "Optimize a model with 155 rows, 2975 columns and 6825 nonzeros\n",
      "Model fingerprint: 0x4032f00e\n",
      "Variable types: 0 continuous, 2975 integer (0 binary)\n",
      "Coefficient statistics:\n",
      "  Matrix range     [1e+00, 1e+00]\n",
      "  Objective range  [2e+01, 3e+01]\n",
      "  Bounds range     [0e+00, 0e+00]\n",
      "  RHS range        [6e+01, 5e+02]\n",
      "Found heuristic solution: objective 260482.00000\n",
      "Presolve time: 0.00s\n",
      "Presolved: 155 rows, 2975 columns, 6825 nonzeros\n",
      "Variable types: 0 continuous, 2975 integer (0 binary)\n",
      "Found heuristic solution: objective 260235.00000\n",
      "\n",
      "Root relaxation: objective 1.835200e+05, 258 iterations, 0.00 seconds (0.00 work units)\n",
      "\n",
      "    Nodes    |    Current Node    |     Objective Bounds      |     Work\n",
      " Expl Unexpl |  Obj  Depth IntInf | Incumbent    BestBd   Gap | It/Node Time\n",
      "\n",
      "*    0     0               0    183520.00000 183520.000  0.00%     -    0s\n",
      "\n",
      "Explored 1 nodes (258 simplex iterations) in 0.04 seconds (0.02 work units)\n",
      "Thread count was 16 (of 16 available processors)\n",
      "\n",
      "Solution count 3: 183520 260235 260482 \n",
      "\n",
      "Optimal solution found (tolerance 1.00e-04)\n",
      "Best objective 1.835200000000e+05, best bound 1.835200000000e+05, gap 0.0000%\n",
      "Results saved to ./results/small/instance_5.txt\n",
      "Total runtime:  0.2925891876220703\n"
     ]
    }
   ],
   "source": [
    "# Sets and indices\n",
    "num_factories = 25\n",
    "num_cds = 35\n",
    "num_clients = 60\n",
    "\n",
    "# Parameters\n",
    "si = np.random.randint(250, 500, size=num_factories)  # Factory capacities\n",
    "tk = np.random.randint(180, 350, size=num_cds)        # CD capacities\n",
    "dj = np.random.randint(60, 120, size=num_clients)      # Client demands\n",
    "cik = np.random.randint(15, 30, size=(num_factories, num_cds))  # Factory -> CD costs\n",
    "ckj = np.random.randint(18, 35, size=(num_cds, num_clients))    # CD -> Client costs\n",
    "\n",
    "# Create and solve the problem\n",
    "total_start_time = time.time()  # Start measuring time\n",
    "problem = SupplyChainOptimization()\n",
    "problem.build_model(num_factories, num_cds, num_clients, si, tk, dj, cik, ckj)\n",
    "problem.solve(output_file=\"./results/small/instance_5.txt\")\n",
    "total_end_time = time.time() # End measuring time\n",
    "total_runtime = total_end_time - total_start_time # Total runtime\n",
    "print(\"Total runtime: \", total_runtime)"
   ]
  }
 ],
 "metadata": {
  "kernelspec": {
   "display_name": "Python 3",
   "language": "python",
   "name": "python3"
  },
  "language_info": {
   "codemirror_mode": {
    "name": "ipython",
    "version": 3
   },
   "file_extension": ".py",
   "mimetype": "text/x-python",
   "name": "python",
   "nbconvert_exporter": "python",
   "pygments_lexer": "ipython3",
   "version": "3.12.3"
  }
 },
 "nbformat": 4,
 "nbformat_minor": 2
}
