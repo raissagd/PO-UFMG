{
 "cells": [
  {
   "cell_type": "code",
   "execution_count": 1,
   "metadata": {},
   "outputs": [],
   "source": [
    "from Algorithm import SupplyChainOptimization\n",
    "import numpy as np\n",
    "import time"
   ]
  },
  {
   "cell_type": "markdown",
   "metadata": {},
   "source": [
    "# Medium instance - 1"
   ]
  },
  {
   "cell_type": "code",
   "execution_count": 2,
   "metadata": {},
   "outputs": [
    {
     "name": "stdout",
     "output_type": "stream",
     "text": [
      "Set parameter Username\n",
      "Academic license - for non-commercial use only - expires 2025-06-11\n",
      "Gurobi Optimizer version 11.0.2 build v11.0.2rc0 (win64 - Windows 10.0 (19045.2))\n",
      "\n",
      "CPU model: AMD Ryzen 7 5700U with Radeon Graphics, instruction set [SSE2|AVX|AVX2]\n",
      "Thread count: 8 physical cores, 16 logical processors, using up to 16 threads\n",
      "\n",
      "Optimize a model with 190 rows, 4400 columns and 10000 nonzeros\n",
      "Model fingerprint: 0xa342efd3\n",
      "Variable types: 0 continuous, 4400 integer (0 binary)\n",
      "Coefficient statistics:\n",
      "  Matrix range     [1e+00, 1e+00]\n",
      "  Objective range  [2e+01, 4e+01]\n",
      "  Bounds range     [0e+00, 0e+00]\n",
      "  RHS range        [8e+01, 6e+02]\n",
      "Found heuristic solution: objective 588343.00000\n",
      "Presolve time: 0.01s\n",
      "Presolved: 190 rows, 4400 columns, 10000 nonzeros\n",
      "Variable types: 0 continuous, 4400 integer (0 binary)\n",
      "Found heuristic solution: objective 587942.00000\n",
      "\n",
      "Root relaxation: objective 4.135190e+05, 357 iterations, 0.01 seconds (0.01 work units)\n",
      "\n",
      "    Nodes    |    Current Node    |     Objective Bounds      |     Work\n",
      " Expl Unexpl |  Obj  Depth IntInf | Incumbent    BestBd   Gap | It/Node Time\n",
      "\n",
      "*    0     0               0    413519.00000 413519.000  0.00%     -    0s\n",
      "\n",
      "Explored 1 nodes (357 simplex iterations) in 0.05 seconds (0.03 work units)\n",
      "Thread count was 16 (of 16 available processors)\n",
      "\n",
      "Solution count 3: 413519 587942 588343 \n",
      "\n",
      "Optimal solution found (tolerance 1.00e-04)\n",
      "Best objective 4.135190000000e+05, best bound 4.135190000000e+05, gap 0.0000%\n",
      "Results saved to ./results/medium/instance_1.txt\n",
      "Total runtime:  0.400831937789917\n"
     ]
    }
   ],
   "source": [
    "# Sets and indices\n",
    "num_factories = 30\n",
    "num_cds = 40\n",
    "num_clients = 80\n",
    "\n",
    "# Parameters\n",
    "si = np.random.randint(300, 600, size=num_factories)  # Factory capacities\n",
    "tk = np.random.randint(200, 400, size=num_cds)        # CD capacities\n",
    "dj = np.random.randint(75, 150, size=num_clients)      # Client demands\n",
    "cik = np.random.randint(20, 40, size=(num_factories, num_cds))  # Factory -> CD costs\n",
    "ckj = np.random.randint(25, 45, size=(num_cds, num_clients))    # CD -> Client costs\n",
    "\n",
    "# Create and solve the problem\n",
    "total_start_time = time.time()  # Start measuring time\n",
    "problem = SupplyChainOptimization()\n",
    "problem.build_model(num_factories, num_cds, num_clients, si, tk, dj, cik, ckj)\n",
    "problem.solve(output_file=\"./results/medium/instance_1.txt\")\n",
    "total_end_time = time.time() # End measuring time\n",
    "total_runtime = total_end_time - total_start_time # Total runtime\n",
    "print(\"Total runtime: \", total_runtime)"
   ]
  },
  {
   "cell_type": "markdown",
   "metadata": {},
   "source": [
    "# Medium instance - 2"
   ]
  },
  {
   "cell_type": "code",
   "execution_count": 3,
   "metadata": {},
   "outputs": [
    {
     "name": "stdout",
     "output_type": "stream",
     "text": [
      "Gurobi Optimizer version 11.0.2 build v11.0.2rc0 (win64 - Windows 10.0 (19045.2))\n",
      "\n",
      "CPU model: AMD Ryzen 7 5700U with Radeon Graphics, instruction set [SSE2|AVX|AVX2]\n",
      "Thread count: 8 physical cores, 16 logical processors, using up to 16 threads\n",
      "\n",
      "Optimize a model with 340 rows, 14000 columns and 31500 nonzeros\n",
      "Model fingerprint: 0xc457ae63\n",
      "Variable types: 0 continuous, 14000 integer (0 binary)\n",
      "Coefficient statistics:\n",
      "  Matrix range     [1e+00, 1e+00]\n",
      "  Objective range  [3e+01, 6e+01]\n",
      "  Bounds range     [0e+00, 0e+00]\n",
      "  RHS range        [1e+02, 1e+03]\n",
      "Found heuristic solution: objective 1831087.0000\n",
      "Presolve time: 0.02s\n",
      "Presolved: 340 rows, 14000 columns, 31500 nonzeros\n",
      "Variable types: 0 continuous, 14000 integer (0 binary)\n",
      "Found heuristic solution: objective 1830391.0000\n",
      "\n",
      "Root relaxation: objective 1.235556e+06, 609 iterations, 0.01 seconds (0.02 work units)\n",
      "\n",
      "    Nodes    |    Current Node    |     Objective Bounds      |     Work\n",
      " Expl Unexpl |  Obj  Depth IntInf | Incumbent    BestBd   Gap | It/Node Time\n",
      "\n",
      "*    0     0               0    1235556.0000 1235556.00  0.00%     -    0s\n",
      "\n",
      "Explored 1 nodes (609 simplex iterations) in 0.06 seconds (0.06 work units)\n",
      "Thread count was 16 (of 16 available processors)\n",
      "\n",
      "Solution count 3: 1.23556e+06 1.83039e+06 1.83109e+06 \n",
      "\n",
      "Optimal solution found (tolerance 1.00e-04)\n",
      "Best objective 1.235556000000e+06, best bound 1.235556000000e+06, gap 0.0000%\n",
      "Results saved to ./results/medium/instance_2.txt\n",
      "Total runtime:  1.3297369480133057\n"
     ]
    }
   ],
   "source": [
    "# Sets and indices\n",
    "num_factories = 50\n",
    "num_cds = 70\n",
    "num_clients = 150\n",
    "\n",
    "# Parameters\n",
    "si = np.random.randint(500, 1000, size=num_factories)  # Factory capacities\n",
    "tk = np.random.randint(400, 800, size=num_cds)        # CD capacities\n",
    "dj = np.random.randint(100, 200, size=num_clients)      # Client demands\n",
    "cik = np.random.randint(25, 50, size=(num_factories, num_cds))  # Factory -> CD costs\n",
    "ckj = np.random.randint(30, 60, size=(num_cds, num_clients))    # CD -> Client costs\n",
    "\n",
    "# Create and solve the problem\n",
    "total_start_time = time.time()  # Start measuring time\n",
    "problem = SupplyChainOptimization()\n",
    "problem.build_model(num_factories, num_cds, num_clients, si, tk, dj, cik, ckj)\n",
    "problem.solve(output_file=\"./results/medium/instance_2.txt\")\n",
    "total_end_time = time.time() # End measuring time\n",
    "total_runtime = total_end_time - total_start_time # Total runtime\n",
    "print(\"Total runtime: \", total_runtime)"
   ]
  },
  {
   "cell_type": "markdown",
   "metadata": {},
   "source": [
    "# Medium instance - 3"
   ]
  },
  {
   "cell_type": "code",
   "execution_count": 4,
   "metadata": {},
   "outputs": [
    {
     "name": "stdout",
     "output_type": "stream",
     "text": [
      "Gurobi Optimizer version 11.0.2 build v11.0.2rc0 (win64 - Windows 10.0 (19045.2))\n",
      "\n",
      "CPU model: AMD Ryzen 7 5700U with Radeon Graphics, instruction set [SSE2|AVX|AVX2]\n",
      "Thread count: 8 physical cores, 16 logical processors, using up to 16 threads\n",
      "\n",
      "Optimize a model with 420 rows, 20800 columns and 46400 nonzeros\n",
      "Model fingerprint: 0x3fde47b9\n",
      "Variable types: 0 continuous, 20800 integer (0 binary)\n",
      "Coefficient statistics:\n",
      "  Matrix range     [1e+00, 1e+00]\n",
      "  Objective range  [3e+01, 7e+01]\n",
      "  Bounds range     [0e+00, 0e+00]\n",
      "  RHS range        [2e+02, 1e+03]\n",
      "Found heuristic solution: objective 3801318.0000\n",
      "Presolve added 0 rows and 80 columns\n",
      "Presolve time: 0.02s\n",
      "Presolved: 420 rows, 20880 columns, 41760 nonzeros\n",
      "Variable types: 0 continuous, 20880 integer (0 binary)\n",
      "Found heuristic solution: objective 3799979.0000\n",
      "\n",
      "Root relaxation: objective 2.589839e+06, 859 iterations, 0.03 seconds (0.04 work units)\n",
      "\n",
      "    Nodes    |    Current Node    |     Objective Bounds      |     Work\n",
      " Expl Unexpl |  Obj  Depth IntInf | Incumbent    BestBd   Gap | It/Node Time\n",
      "\n",
      "*    0     0               0    2589839.0000 2589839.00  0.00%     -    0s\n",
      "\n",
      "Explored 1 nodes (859 simplex iterations) in 0.11 seconds (0.10 work units)\n",
      "Thread count was 16 (of 16 available processors)\n",
      "\n",
      "Solution count 3: 2.58984e+06 3.79998e+06 3.80132e+06 \n",
      "\n",
      "Optimal solution found (tolerance 1.00e-04)\n",
      "Best objective 2.589839000000e+06, best bound 2.589839000000e+06, gap 0.0000%\n",
      "Results saved to ./results/medium/instance_3.txt\n",
      "Total runtime:  1.7912592887878418\n"
     ]
    }
   ],
   "source": [
    "# Sets and indices\n",
    "num_factories = 60\n",
    "num_cds = 80\n",
    "num_clients = 200\n",
    "\n",
    "# Parameters\n",
    "si = np.random.randint(600, 1200, size=num_factories)  # Factory capacities\n",
    "tk = np.random.randint(500, 900, size=num_cds)        # CD capacities\n",
    "dj = np.random.randint(150, 250, size=num_clients)      # Client demands\n",
    "cik = np.random.randint(30, 60, size=(num_factories, num_cds))  # Factory -> CD costs\n",
    "ckj = np.random.randint(35, 70, size=(num_cds, num_clients))    # CD -> Client costs\n",
    "\n",
    "# Create and solve the problem\n",
    "total_start_time = time.time()  # Start measuring time\n",
    "problem = SupplyChainOptimization()\n",
    "problem.build_model(num_factories, num_cds, num_clients, si, tk, dj, cik, ckj)\n",
    "problem.solve(output_file=\"./results/medium/instance_3.txt\")\n",
    "total_end_time = time.time() # End measuring time\n",
    "total_runtime = total_end_time - total_start_time # Total runtime\n",
    "print(\"Total runtime: \", total_runtime)"
   ]
  },
  {
   "cell_type": "markdown",
   "metadata": {},
   "source": [
    "# Medium instance - 4"
   ]
  },
  {
   "cell_type": "code",
   "execution_count": 5,
   "metadata": {},
   "outputs": [
    {
     "name": "stdout",
     "output_type": "stream",
     "text": [
      "Gurobi Optimizer version 11.0.2 build v11.0.2rc0 (win64 - Windows 10.0 (19045.2))\n",
      "\n",
      "CPU model: AMD Ryzen 7 5700U with Radeon Graphics, instruction set [SSE2|AVX|AVX2]\n",
      "Thread count: 8 physical cores, 16 logical processors, using up to 16 threads\n",
      "\n",
      "Optimize a model with 700 rows, 60000 columns and 135000 nonzeros\n",
      "Model fingerprint: 0x1d63e4f2\n",
      "Variable types: 0 continuous, 60000 integer (0 binary)\n",
      "Coefficient statistics:\n",
      "  Matrix range     [1e+00, 1e+00]\n",
      "  Objective range  [4e+01, 1e+02]\n",
      "  Bounds range     [0e+00, 0e+00]\n",
      "  RHS range        [2e+02, 1e+03]\n",
      "Found heuristic solution: objective 1.008017e+07\n",
      "Presolve added 0 rows and 150 columns\n",
      "Presolve time: 0.12s\n",
      "Presolved: 700 rows, 60150 columns, 120300 nonzeros\n",
      "Variable types: 0 continuous, 60150 integer (0 binary)\n",
      "Found heuristic solution: objective 1.007813e+07\n",
      "\n",
      "Root relaxation: objective 6.764808e+06, 1261 iterations, 0.07 seconds (0.12 work units)\n",
      "\n",
      "    Nodes    |    Current Node    |     Objective Bounds      |     Work\n",
      " Expl Unexpl |  Obj  Depth IntInf | Incumbent    BestBd   Gap | It/Node Time\n",
      "\n",
      "*    0     0               0    6764808.0000 6764808.00  0.00%     -    0s\n",
      "\n",
      "Explored 1 nodes (1261 simplex iterations) in 0.31 seconds (0.33 work units)\n",
      "Thread count was 16 (of 16 available processors)\n",
      "\n",
      "Solution count 3: 6.76481e+06 1.00781e+07 1.00802e+07 \n",
      "\n",
      "Optimal solution found (tolerance 1.00e-04)\n",
      "Best objective 6.764808000000e+06, best bound 6.764808000000e+06, gap 0.0000%\n",
      "Results saved to ./results/medium/instance_4.txt\n",
      "Total runtime:  4.9238762855529785\n"
     ]
    }
   ],
   "source": [
    "# Sets and indices\n",
    "num_factories = 100\n",
    "num_cds = 150\n",
    "num_clients = 300\n",
    "\n",
    "# Parameters\n",
    "si = np.random.randint(800, 1500, size=num_factories)  # Factory capacities\n",
    "tk = np.random.randint(700, 1200, size=num_cds)        # CD capacities\n",
    "dj = np.random.randint(200, 300, size=num_clients)      # Client demands\n",
    "cik = np.random.randint(40, 80, size=(num_factories, num_cds))  # Factory -> CD costs\n",
    "ckj = np.random.randint(50, 100, size=(num_cds, num_clients))    # CD -> Client costs\n",
    "\n",
    "# Create and solve the problem\n",
    "total_start_time = time.time()  # Start measuring time\n",
    "problem = SupplyChainOptimization()\n",
    "problem.build_model(num_factories, num_cds, num_clients, si, tk, dj, cik, ckj)\n",
    "problem.solve(output_file=\"./results/medium/instance_4.txt\")\n",
    "total_end_time = time.time() # End measuring time\n",
    "total_runtime = total_end_time - total_start_time # Total runtime\n",
    "print(\"Total runtime: \", total_runtime)"
   ]
  }
 ],
 "metadata": {
  "kernelspec": {
   "display_name": "Python 3",
   "language": "python",
   "name": "python3"
  },
  "language_info": {
   "codemirror_mode": {
    "name": "ipython",
    "version": 3
   },
   "file_extension": ".py",
   "mimetype": "text/x-python",
   "name": "python",
   "nbconvert_exporter": "python",
   "pygments_lexer": "ipython3",
   "version": "3.12.3"
  }
 },
 "nbformat": 4,
 "nbformat_minor": 2
}
